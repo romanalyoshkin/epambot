{
 "cells": [
  {
   "cell_type": "markdown",
   "id": "9967cd7f-a397-47fd-9b1d-6d95dd82bd34",
   "metadata": {},
   "source": [
    "## Pinecone config"
   ]
  },
  {
   "cell_type": "code",
   "execution_count": null,
   "id": "abbb8576-f410-4fc6-b19f-c72d993af4f2",
   "metadata": {},
   "outputs": [],
   "source": [
    "from pinecone import Pinecone, ServerlessSpec\n",
    "from dotenv import load_dotenv\n",
    "import os"
   ]
  },
  {
   "cell_type": "code",
   "execution_count": null,
   "id": "4df13509-805c-4017-9179-a50dbd9bac94",
   "metadata": {},
   "outputs": [],
   "source": [
    "load_dotenv()\n",
    "\n",
    "AZURE_KEY = os.getenv('AZURE_KEY')\n",
    "AZURE_GPT4MINI_ENDPOINT = os.getenv('AZURE_GPT4MINI_ENDPOINT')\n",
    "AZURE_EMBEDINGS_ENDPOINT = os.getenv('AZURE_EMBEDINGS_ENDPOINT')\n",
    "LLM_MODEL = os.getenv('LLM_MODEL')\n",
    "PINECONE_API_KEY = os.getenv('PINECONE_API_KEY')"
   ]
  },
  {
   "cell_type": "code",
   "execution_count": null,
   "id": "0ca0c793-befd-4da0-aca0-d988ccb00a29",
   "metadata": {},
   "outputs": [],
   "source": [
    "index_name = \"epambot\"\n",
    "namespace = \"epambot\"\n",
    "\n",
    "#pc.delete_index(index_name)\n",
    "\n",
    "pc.create_index(\n",
    "  name=index_name,\n",
    "  dimension=1536,\n",
    "  metric=\"cosine\",\n",
    "  spec=ServerlessSpec(\n",
    "    cloud=\"aws\",\n",
    "    region=\"us-east-1\"\n",
    "  )\n",
    ")"
   ]
  },
  {
   "cell_type": "markdown",
   "id": "f028d501-147f-423e-87b7-58bd4b28a34b",
   "metadata": {},
   "source": [
    "## Azure config"
   ]
  },
  {
   "cell_type": "code",
   "execution_count": null,
   "id": "0d9ddd48-0202-43f4-b033-e58f040a7939",
   "metadata": {},
   "outputs": [],
   "source": [
    "client_azure = AzureOpenAI(\n",
    "    api_key=azure_key,  \n",
    "    #api_version=\"2024-02-01\",\n",
    "    api_version=\"2023-03-15-preview\", #this one works for gpt-4o\n",
    "    azure_endpoint = azure_gpt4omini_endpoint\n",
    "    )"
   ]
  },
  {
   "cell_type": "code",
   "execution_count": null,
   "id": "a06b41d0-69e5-4507-b448-5201300f5e0e",
   "metadata": {},
   "outputs": [],
   "source": [
    "def get_completion_from_messages_azure(messages, \n",
    "                                 model=llm_model, \n",
    "                                 temperature=0.1, \n",
    "                                 max_tokens=4096):\n",
    "    response = client_azure.chat.completions.create(\n",
    "        model=model,\n",
    "        messages=messages,\n",
    "        temperature=temperature,\n",
    "        max_tokens=max_tokens,\n",
    "    )\n",
    "\n",
    "    return response.choices[0].message.content"
   ]
  },
  {
   "cell_type": "code",
   "execution_count": null,
   "id": "158330ce-2464-4556-82aa-c70adbe954ec",
   "metadata": {},
   "outputs": [],
   "source": [
    "#test call\n",
    "messages =  [  \n",
    "{'role':'system', \n",
    "    'content': \"no context\"},    \n",
    "{'role':'user', \n",
    "    'content': \"how are you?\"},  \n",
    "] \n",
    "\n",
    "#get_completion_from_messages_azure(messages)"
   ]
  },
  {
   "cell_type": "markdown",
   "id": "571ee04c-fca0-4d90-9a49-eba276b09de7",
   "metadata": {},
   "source": [
    "# Read Langchain documents from jSON"
   ]
  },
  {
   "cell_type": "code",
   "execution_count": null,
   "id": "cb62bda4-3718-4e4f-bb7d-4af4eca31788",
   "metadata": {},
   "outputs": [],
   "source": [
    "from langchain_openai import AzureOpenAIEmbeddings\n",
    "\n",
    "# model_name = \"text-embedding-3-small\"  \n",
    "model_name = \"text-embedding-ada-002\" \n",
    "\n",
    "embeddings = AzureOpenAIEmbeddings(\n",
    "    azure_deployment=\"text-embedding-ada-002\",\n",
    "    #openai_api_version=\"2023-05-15\",\n",
    "    api_key=azure_key,\n",
    "    azure_endpoint=azure_embedings_endpoint\n",
    ")"
   ]
  },
  {
   "cell_type": "code",
   "execution_count": null,
   "id": "2b4733bb-a88e-41c3-b04f-c3cd2b7ff888",
   "metadata": {},
   "outputs": [],
   "source": [
    "from langchain.schema import Document\n",
    "import time\n",
    "import os,json\n",
    "from langchain_pinecone import PineconeVectorStore\n",
    "\n",
    "path_to_json = 'jsons/'\n",
    "\n",
    "# Settings for displaying the import progress\n",
    "counter = 0\n",
    "\n",
    "for file_name in [file for file in os.listdir(path_to_json) if file.endswith('.json')]:\n",
    "    with open(path_to_json + file_name) as json_file:\n",
    "        chunks = json.load(json_file)\n",
    "        one_page_splits = []\n",
    "        for chunk in chunks:\n",
    "            questions = ' '.join(chunk[\"questions\"])\n",
    "            doc =  Document(page_content=chunk[\"content\"], metadata={\n",
    "                \"questions\": questions\n",
    "            })\n",
    "            one_page_splits.append(doc)\n",
    "            counter=counter+1\n",
    "            #print(one_page_splits[0])\n",
    "            #print(one_page_splits)\n",
    "            print(counter)\n",
    "        \n",
    "        docsearch = PineconeVectorStore.from_documents(\n",
    "            documents=one_page_splits,\n",
    "            index_name=index_name,\n",
    "            embedding=embeddings, \n",
    "            namespace=namespace\n",
    "        )\n",
    "                \n",
    "print(f\"Finished importing {counter} articles.\")"
   ]
  },
  {
   "cell_type": "markdown",
   "id": "425f610a-a2cb-4702-87fb-8f803e081239",
   "metadata": {},
   "source": [
    "## Search for the objects: Basic search to check data"
   ]
  },
  {
   "cell_type": "code",
   "execution_count": null,
   "id": "b92906aa-124e-469e-aa22-f63888276c38",
   "metadata": {},
   "outputs": [],
   "source": [
    "query = \"what kind of rulling exactly do I get if I came to the netherlands in february 2024?\"\n",
    "docs = docsearch.similarity_search(query)\n",
    "print(docs[0].page_content)\n",
    "\n",
    "print(docs)"
   ]
  },
  {
   "cell_type": "code",
   "execution_count": null,
   "id": "c08d2343-361a-47c7-8c52-7822963844f5",
   "metadata": {},
   "outputs": [],
   "source": [
    "context = \"\"\n",
    "for o in docs:\n",
    "    context = o.page_content + context\n",
    "    \n",
    "#Prompt preparation\n",
    "delimiter = \"####\"\n",
    "prompt = f\"\"\"Act as a person who relocated to The Netherlands and seeking for the answers. Give the answer to the question within provided context: {query}.\"\n",
    "            \"\"\"\n",
    "messages =  [\n",
    "    {'role':'system', \n",
    "    'content': context},    \n",
    "    {'role':'user', \n",
    "    'content': f\"{delimiter}{prompt}{delimiter}\"}\n",
    "    ] \n",
    "\n",
    "get_completion_from_messages_azure(messages)"
   ]
  },
  {
   "cell_type": "markdown",
   "id": "9699a1af-667c-4e9b-89e3-df66973a7664",
   "metadata": {},
   "source": [
    "## Maximal Marginal Relevance MMR"
   ]
  },
  {
   "cell_type": "code",
   "execution_count": null,
   "id": "bdff4ddf-6439-4dd0-979d-1405345e1bfb",
   "metadata": {},
   "outputs": [],
   "source": [
    "#Maximal Marginal Relevance MMR is a method used to avoid redundancy while retrieving relevant items to a query. \n",
    "#Instead of merely retrieving the most relevant items (which can often be very similar to each other), \n",
    "#MMR ensures a balance between relevancy and diversity in the items retrieved"
   ]
  },
  {
   "cell_type": "code",
   "execution_count": null,
   "id": "485d86f6-fa84-4824-bc19-40d11b01f429",
   "metadata": {},
   "outputs": [],
   "source": [
    "retriever = docsearch.as_retriever(search_type=\"mmr\")\n",
    "matched_docs = retriever.invoke(query)\n",
    "for i, d in enumerate(matched_docs):\n",
    "    print(f\"\\n## Document {i}\\n\")\n",
    "    print(d.page_content)"
   ]
  },
  {
   "cell_type": "markdown",
   "id": "13bc3824-f34f-492e-ba9d-e8d7b228669f",
   "metadata": {},
   "source": [
    "## Test request\n"
   ]
  },
  {
   "cell_type": "code",
   "execution_count": null,
   "id": "e98157ef-6b56-4099-bf94-6e198f29eccf",
   "metadata": {},
   "outputs": [],
   "source": [
    "# index_name = \"pleadcop\"\n",
    "# namespace = \"pleadcop\"\n",
    "vectorstore = PineconeVectorStore(index_name=index_name,\n",
    "                                  embedding=embeddings,\n",
    "                                  namespace=namespace)  "
   ]
  },
  {
   "cell_type": "code",
   "execution_count": null,
   "id": "613d79b9-a0b1-411d-81ca-1a59b4ae240a",
   "metadata": {},
   "outputs": [],
   "source": [
    "aarrr_funnel_stage = \"acquisition\"\n",
    "success_metric = \"Site Visit to Sign-up Conversion\""
   ]
  },
  {
   "cell_type": "code",
   "execution_count": null,
   "id": "03d69802-5428-400e-8721-60887dc4c673",
   "metadata": {},
   "outputs": [],
   "source": [
    "query = f\"Which hypothesis suit best AARRR stage: {aarrr_funnel_stage} and success metric: {success_metric}.\"\n",
    "\n",
    "result = vectorstore.similarity_search(\n",
    "    query,  # our search query  \n",
    "    k=3  # return 3 most relevant docs\n",
    "    )\n",
    "\n",
    "context = \"\"\n",
    "for o in result:\n",
    "        context = o.page_content + context\n",
    "\n",
    "\n",
    "context"
   ]
  },
  {
   "cell_type": "code",
   "execution_count": null,
   "id": "94e35a22-f734-4501-b247-91dfb5085f69",
   "metadata": {},
   "outputs": [],
   "source": []
  },
  {
   "cell_type": "code",
   "execution_count": null,
   "id": "02082d4c-95c3-47d4-b0de-5c2bde10d17c",
   "metadata": {},
   "outputs": [],
   "source": [
    "#Prompt preparation\n",
    "delimiter = \"####\"\n",
    "prompt = f\"\"\"Act a product manager and using the information from the context,\n",
    "            provide a best possible product hypothesis which will \n",
    "            improve {success_metric} at the {aarrr_funnel_stage} stage\"\n",
    "            \"\"\"\n",
    "messages =  [\n",
    "    {'role':'system', \n",
    "    'content': context},    \n",
    "    {'role':'user', \n",
    "    'content': f\"{delimiter}{prompt}{delimiter}\"}\n",
    "    ] "
   ]
  },
  {
   "cell_type": "code",
   "execution_count": null,
   "id": "d8c72dce-334d-47f5-b56f-6738fe38d641",
   "metadata": {},
   "outputs": [],
   "source": [
    "get_completion_from_messages_azure(messages)"
   ]
  },
  {
   "cell_type": "code",
   "execution_count": null,
   "id": "dd9246e0-ecec-483e-86cb-64027f31ec51",
   "metadata": {},
   "outputs": [],
   "source": []
  }
 ],
 "metadata": {
  "kernelspec": {
   "display_name": "Python 3 (ipykernel)",
   "language": "python",
   "name": "python3"
  },
  "language_info": {
   "codemirror_mode": {
    "name": "ipython",
    "version": 3
   },
   "file_extension": ".py",
   "mimetype": "text/x-python",
   "name": "python",
   "nbconvert_exporter": "python",
   "pygments_lexer": "ipython3",
   "version": "3.8.19"
  }
 },
 "nbformat": 4,
 "nbformat_minor": 5
}
